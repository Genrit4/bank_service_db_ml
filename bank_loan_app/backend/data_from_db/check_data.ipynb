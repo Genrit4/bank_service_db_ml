{
 "cells": [
  {
   "cell_type": "code",
   "execution_count": 3,
   "id": "93f31d7b",
   "metadata": {},
   "outputs": [],
   "source": [
    "import pandas as pd\n",
    "\n",
    "df_pred = pd.read_csv(\"predictions.csv\")\n",
    "df_user = pd.read_csv(\"users.csv\")"
   ]
  },
  {
   "cell_type": "code",
   "execution_count": 4,
   "id": "0c25673a",
   "metadata": {},
   "outputs": [
    {
     "data": {
      "text/html": [
       "<div>\n",
       "<style scoped>\n",
       "    .dataframe tbody tr th:only-of-type {\n",
       "        vertical-align: middle;\n",
       "    }\n",
       "\n",
       "    .dataframe tbody tr th {\n",
       "        vertical-align: top;\n",
       "    }\n",
       "\n",
       "    .dataframe thead th {\n",
       "        text-align: right;\n",
       "    }\n",
       "</style>\n",
       "<table border=\"1\" class=\"dataframe\">\n",
       "  <thead>\n",
       "    <tr style=\"text-align: right;\">\n",
       "      <th></th>\n",
       "      <th>loan_amount</th>\n",
       "      <th>user_id</th>\n",
       "      <th>income_annum</th>\n",
       "      <th>loan_term</th>\n",
       "      <th>self_employed</th>\n",
       "      <th>id</th>\n",
       "      <th>dependents</th>\n",
       "      <th>cibil_score</th>\n",
       "      <th>education</th>\n",
       "      <th>loan_status</th>\n",
       "      <th>timestamp</th>\n",
       "    </tr>\n",
       "  </thead>\n",
       "  <tbody>\n",
       "    <tr>\n",
       "      <th>0</th>\n",
       "      <td>1000.0</td>\n",
       "      <td>6</td>\n",
       "      <td>1.000000e+09</td>\n",
       "      <td>2500.0</td>\n",
       "      <td>True</td>\n",
       "      <td>1</td>\n",
       "      <td>3.0</td>\n",
       "      <td>950.0</td>\n",
       "      <td>True</td>\n",
       "      <td>True</td>\n",
       "      <td>2025-06-24 09:51:39.432556</td>\n",
       "    </tr>\n",
       "  </tbody>\n",
       "</table>\n",
       "</div>"
      ],
      "text/plain": [
       "   loan_amount  user_id  income_annum  loan_term  self_employed  id  \\\n",
       "0       1000.0        6  1.000000e+09     2500.0           True   1   \n",
       "\n",
       "   dependents  cibil_score  education  loan_status                   timestamp  \n",
       "0         3.0        950.0       True         True  2025-06-24 09:51:39.432556  "
      ]
     },
     "execution_count": 4,
     "metadata": {},
     "output_type": "execute_result"
    }
   ],
   "source": [
    "df_pred"
   ]
  },
  {
   "cell_type": "code",
   "execution_count": 5,
   "id": "9b7202a2",
   "metadata": {},
   "outputs": [
    {
     "data": {
      "text/html": [
       "<div>\n",
       "<style scoped>\n",
       "    .dataframe tbody tr th:only-of-type {\n",
       "        vertical-align: middle;\n",
       "    }\n",
       "\n",
       "    .dataframe tbody tr th {\n",
       "        vertical-align: top;\n",
       "    }\n",
       "\n",
       "    .dataframe thead th {\n",
       "        text-align: right;\n",
       "    }\n",
       "</style>\n",
       "<table border=\"1\" class=\"dataframe\">\n",
       "  <thead>\n",
       "    <tr style=\"text-align: right;\">\n",
       "      <th></th>\n",
       "      <th>password_hash</th>\n",
       "      <th>login</th>\n",
       "      <th>user_id</th>\n",
       "    </tr>\n",
       "  </thead>\n",
       "  <tbody>\n",
       "    <tr>\n",
       "      <th>0</th>\n",
       "      <td>$2b$12$VydlFCvjaXLz08jqIIanueoPWavq0rN7GaaKhEM...</td>\n",
       "      <td>string</td>\n",
       "      <td>1</td>\n",
       "    </tr>\n",
       "    <tr>\n",
       "      <th>1</th>\n",
       "      <td>$2b$12$DYpro66Afh6/EP4ffXtuwOxTW9Bi.O2VACUY8yu...</td>\n",
       "      <td>swaga322</td>\n",
       "      <td>3</td>\n",
       "    </tr>\n",
       "    <tr>\n",
       "      <th>2</th>\n",
       "      <td>$2b$12$U9s/f5L8vD3kzHu.9gshhuUXaWO6Shbpu.gxhTs...</td>\n",
       "      <td>slon123</td>\n",
       "      <td>5</td>\n",
       "    </tr>\n",
       "    <tr>\n",
       "      <th>3</th>\n",
       "      <td>$2b$12$b7Kt42qvtpH5Fc7FMBfycu/jzCniblBxpcaKtXE...</td>\n",
       "      <td>swaga123</td>\n",
       "      <td>6</td>\n",
       "    </tr>\n",
       "    <tr>\n",
       "      <th>4</th>\n",
       "      <td>$2b$12$TI30kIHm4NpuYP.1SJi.lOCdbIHSOQVsCjXTDEI...</td>\n",
       "      <td>lox123123</td>\n",
       "      <td>8</td>\n",
       "    </tr>\n",
       "    <tr>\n",
       "      <th>5</th>\n",
       "      <td>$2b$12$CL0Ln4uGzTyXPLIHO72Y3.UuTKraHnmgQBFFYBV...</td>\n",
       "      <td>bot1</td>\n",
       "      <td>10</td>\n",
       "    </tr>\n",
       "    <tr>\n",
       "      <th>6</th>\n",
       "      <td>$2b$12$lgFjnB9BU.LGe8Hczx6IlucuAW5j86w7SA2kCFG...</td>\n",
       "      <td>bot12</td>\n",
       "      <td>11</td>\n",
       "    </tr>\n",
       "  </tbody>\n",
       "</table>\n",
       "</div>"
      ],
      "text/plain": [
       "                                       password_hash      login  user_id\n",
       "0  $2b$12$VydlFCvjaXLz08jqIIanueoPWavq0rN7GaaKhEM...     string        1\n",
       "1  $2b$12$DYpro66Afh6/EP4ffXtuwOxTW9Bi.O2VACUY8yu...   swaga322        3\n",
       "2  $2b$12$U9s/f5L8vD3kzHu.9gshhuUXaWO6Shbpu.gxhTs...    slon123        5\n",
       "3  $2b$12$b7Kt42qvtpH5Fc7FMBfycu/jzCniblBxpcaKtXE...   swaga123        6\n",
       "4  $2b$12$TI30kIHm4NpuYP.1SJi.lOCdbIHSOQVsCjXTDEI...  lox123123        8\n",
       "5  $2b$12$CL0Ln4uGzTyXPLIHO72Y3.UuTKraHnmgQBFFYBV...       bot1       10\n",
       "6  $2b$12$lgFjnB9BU.LGe8Hczx6IlucuAW5j86w7SA2kCFG...      bot12       11"
      ]
     },
     "execution_count": 5,
     "metadata": {},
     "output_type": "execute_result"
    }
   ],
   "source": [
    "df_user"
   ]
  }
 ],
 "metadata": {
  "kernelspec": {
   "display_name": "env",
   "language": "python",
   "name": "python3"
  },
  "language_info": {
   "codemirror_mode": {
    "name": "ipython",
    "version": 3
   },
   "file_extension": ".py",
   "mimetype": "text/x-python",
   "name": "python",
   "nbconvert_exporter": "python",
   "pygments_lexer": "ipython3",
   "version": "3.12.10"
  }
 },
 "nbformat": 4,
 "nbformat_minor": 5
}
